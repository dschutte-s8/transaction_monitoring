{
 "cells": [
  {
   "cell_type": "code",
   "execution_count": 1,
   "id": "bfdbcaad",
   "metadata": {},
   "outputs": [],
   "source": [
    "import os\n",
    "import sys\n",
    "import traceback\n",
    "from time import time\n",
    "from collections import Counter\n",
    "\n",
    "import numpy as np\n",
    "import pandas as pd\n",
    "from scipy import stats\n",
    "\n",
    "from IPython.display import Image\n",
    "import matplotlib.pyplot as plt\n",
    "import seaborn as sns\n",
    "import pygraphviz as pgv\n",
    "\n",
    "import torch  # for uniformity we will use pytorch \n",
    "\n",
    "import networkx as nx\n",
    "import dgl\n",
    "\n",
    "# Globals\n",
    "SEED=314\n",
    "\n",
    "# Change to 'False' if using AWS\n",
    "LOCAL=True"
   ]
  },
  {
   "cell_type": "markdown",
   "id": "6e906d62",
   "metadata": {},
   "source": [
    "If references are needed for some of the packages we will be using, please feel free to ask to setup a KT session or look at some of the resources below:\n",
    "\n",
    "[PyTorch](https://pytorch.org/tutorials/)<br>\n",
    "[DGL (Deep Graph Library)](https://docs.dgl.ai/tutorials/blitz/index.html)<br>\n",
    "[GraphViz](https://renenyffenegger.ch/notes/tools/Graphviz/examples/index)<br>\n",
    "[UMAP (Uniform Manifold Approximation & Projection)](https://umap-learn.readthedocs.io/en/latest/basic_usage.html)"
   ]
  },
  {
   "cell_type": "markdown",
   "id": "d38cdebe",
   "metadata": {},
   "source": [
    "# Data loading"
   ]
  },
  {
   "cell_type": "code",
   "execution_count": 2,
   "id": "ce947616",
   "metadata": {},
   "outputs": [],
   "source": [
    "# Not great, will improve packaging\n",
    "sys.path.append('../src')\n",
    "\n",
    "import utils.data as tmd\n",
    "import tmgraph as tmg"
   ]
  },
  {
   "cell_type": "code",
   "execution_count": 3,
   "id": "ce353adf",
   "metadata": {},
   "outputs": [
    {
     "name": "stdout",
     "output_type": "stream",
     "text": [
      "Loading data...\n",
      "Loaded:\n",
      "\t10000 accounts\n",
      "\t1323234 transactions\n",
      "\t1719 alerts\n",
      "\tLoaded in: 0.5671s\n",
      "Preparing graph object...\n"
     ]
    },
    {
     "name": "stderr",
     "output_type": "stream",
     "text": [
      "/home/dalton/.local/lib/python3.8/site-packages/dgl/heterograph.py:72: DGLWarning: Recommend creating graphs by `dgl.graph(data)` instead of `dgl.DGLGraph(data)`.\n",
      "  dgl_warning('Recommend creating graphs by `dgl.graph(data)`'\n"
     ]
    },
    {
     "name": "stdout",
     "output_type": "stream",
     "text": [
      "Graph created...\n",
      "Building transaction ledger...\n",
      "Aggregating customer accounts...\n",
      "[PROCESS COMPLETE]\n"
     ]
    }
   ],
   "source": [
    "if LOCAL:\n",
    "    try:\n",
    "        aml_data, G = tmd.get_aml_graph_local('../data/10Kvertices-1Medges')\n",
    "        print('Aggregating customer accounts...')\n",
    "        aml_data.agg_customer_accounts()\n",
    "        print('[PROCESS COMPLETE]')\n",
    "    except AssertionError:\n",
    "        print(sys.exc_info()[1])\n",
    "        print(\"\"\"Did not find 10Kvertices-1Medges in the data folder...\n",
    "Have you run 'bash setup.sh' or 'bash setup/get_data.sh'?\"\"\")\n",
    "    except:\n",
    "        print(sys.exc_info()[1])\n",
    "        traceback.print_tb(sys.exc_info()[2])\n",
    "else:\n",
    "    # Not implemented, will throw error\n",
    "    tmd.get_aml_graph_s3()"
   ]
  },
  {
   "cell_type": "markdown",
   "id": "645ec21e",
   "metadata": {},
   "source": [
    "# Quick functionality demo"
   ]
  },
  {
   "cell_type": "code",
   "execution_count": 4,
   "id": "36fdd817",
   "metadata": {},
   "outputs": [
    {
     "data": {
      "text/plain": [
       "200"
      ]
     },
     "execution_count": 4,
     "metadata": {},
     "output_type": "execute_result"
    }
   ],
   "source": [
    "# We check how many timesteps are in our ledger\n",
    "len(aml_data.ledger)"
   ]
  },
  {
   "cell_type": "code",
   "execution_count": 5,
   "id": "65fe5694",
   "metadata": {},
   "outputs": [
    {
     "data": {
      "image/png": "[encoded data removed]",
      "text/plain": [
       "<Figure size 432x288 with 1 Axes>"
      ]
     },
     "metadata": {
      "needs_background": "light"
     },
     "output_type": "display_data"
    }
   ],
   "source": [
    "# Let's look at the distribution of transactions per timestep\n",
    "sns.histplot([c['TX_ID'].shape[0] for c in aml_data.ledger.values()])\n",
    "plt.show()"
   ]
  },
  {
   "cell_type": "code",
   "execution_count": 6,
   "id": "fbca770b",
   "metadata": {},
   "outputs": [],
   "source": [
    "# The TMGraph object is built to help facilitate using temporal data in a way that is similar\n",
    "# to how many reinforcement learning environment objects are setup\n",
    "env = tmg.TMGraph(G, aml_data.ledger)"
   ]
  },
  {
   "cell_type": "code",
   "execution_count": 7,
   "id": "e88da198",
   "metadata": {},
   "outputs": [
    {
     "data": {
      "text/html": [
       "<div>\n",
       "<style scoped>\n",
       "    .dataframe tbody tr th:only-of-type {\n",
       "        vertical-align: middle;\n",
       "    }\n",
       "\n",
       "    .dataframe tbody tr th {\n",
       "        vertical-align: top;\n",
       "    }\n",
       "\n",
       "    .dataframe thead th {\n",
       "        text-align: right;\n",
       "    }\n",
       "</style>\n",
       "<table border=\"1\" class=\"dataframe\">\n",
       "  <thead>\n",
       "    <tr style=\"text-align: right;\">\n",
       "      <th></th>\n",
       "      <th>6945</th>\n",
       "      <th>2189</th>\n",
       "      <th>3722</th>\n",
       "      <th>9905</th>\n",
       "      <th>1640</th>\n",
       "      <th>3269</th>\n",
       "      <th>8948</th>\n",
       "      <th>2900</th>\n",
       "      <th>6264</th>\n",
       "      <th>1007</th>\n",
       "    </tr>\n",
       "  </thead>\n",
       "  <tbody>\n",
       "    <tr>\n",
       "      <th>BALANCE</th>\n",
       "      <td>350.84</td>\n",
       "      <td>128.78</td>\n",
       "      <td>131.21</td>\n",
       "      <td>208.02</td>\n",
       "      <td>143.4</td>\n",
       "      <td>329.22</td>\n",
       "      <td>258.23</td>\n",
       "      <td>239.85</td>\n",
       "      <td>263.6</td>\n",
       "      <td>194.98</td>\n",
       "    </tr>\n",
       "    <tr>\n",
       "      <th>COUNTRY</th>\n",
       "      <td>0.00</td>\n",
       "      <td>0.00</td>\n",
       "      <td>0.00</td>\n",
       "      <td>0.00</td>\n",
       "      <td>0.0</td>\n",
       "      <td>0.00</td>\n",
       "      <td>0.00</td>\n",
       "      <td>0.00</td>\n",
       "      <td>0.0</td>\n",
       "      <td>0.00</td>\n",
       "    </tr>\n",
       "    <tr>\n",
       "      <th>ACCOUNT_TYPE</th>\n",
       "      <td>0.00</td>\n",
       "      <td>0.00</td>\n",
       "      <td>0.00</td>\n",
       "      <td>0.00</td>\n",
       "      <td>0.0</td>\n",
       "      <td>0.00</td>\n",
       "      <td>0.00</td>\n",
       "      <td>0.00</td>\n",
       "      <td>0.0</td>\n",
       "      <td>0.00</td>\n",
       "    </tr>\n",
       "  </tbody>\n",
       "</table>\n",
       "</div>"
      ],
      "text/plain": [
       "                6945    2189    3722    9905   1640    3269    8948    2900  \\\n",
       "BALANCE       350.84  128.78  131.21  208.02  143.4  329.22  258.23  239.85   \n",
       "COUNTRY         0.00    0.00    0.00    0.00    0.0    0.00    0.00    0.00   \n",
       "ACCOUNT_TYPE    0.00    0.00    0.00    0.00    0.0    0.00    0.00    0.00   \n",
       "\n",
       "               6264    1007  \n",
       "BALANCE       263.6  194.98  \n",
       "COUNTRY         0.0    0.00  \n",
       "ACCOUNT_TYPE    0.0    0.00  "
      ]
     },
     "execution_count": 7,
     "metadata": {},
     "output_type": "execute_result"
    }
   ],
   "source": [
    "# We take a look at the some random accounts at t=0\n",
    "ACCOUNTS = np.random.randint(1,len(aml_data.accounts),(10,))\n",
    "pd.DataFrame().from_dict({k: v.numpy() for k, v in env.transaction_graph.nodes[ACCOUNTS].data.items()}, orient='index', columns=ACCOUNTS)"
   ]
  },
  {
   "cell_type": "code",
   "execution_count": 8,
   "id": "4b3df14f",
   "metadata": {},
   "outputs": [
    {
     "data": {
      "text/plain": [
       "{}"
      ]
     },
     "execution_count": 8,
     "metadata": {},
     "output_type": "execute_result"
    }
   ],
   "source": [
    "# Since we are at state=0 before transaction step 0, there should be no edges\n",
    "env.transaction_graph.edata"
   ]
  },
  {
   "cell_type": "code",
   "execution_count": 9,
   "id": "293ed506",
   "metadata": {},
   "outputs": [
    {
     "name": "stdout",
     "output_type": "stream",
     "text": [
      "t = 0\n",
      "\tNumber of transactions: 4920\n",
      "t = 1\n",
      "\tTime to step: 0.00121s\n"
     ]
    }
   ],
   "source": [
    "# We take a step!\n",
    "print(f\"t = {env.t}\")\n",
    "print(f\"\\tNumber of transactions: {len(env.transaction_ledger[0]['TX_ID'])}\")\n",
    "start = time()\n",
    "env.step()\n",
    "end = time()-start\n",
    "print(f\"t = {env.t}\")\n",
    "print(f\"\\tTime to step: {round(end,5)}s\")"
   ]
  },
  {
   "cell_type": "code",
   "execution_count": 10,
   "id": "3d489478",
   "metadata": {},
   "outputs": [
    {
     "data": {
      "text/html": [
       "<div>\n",
       "<style scoped>\n",
       "    .dataframe tbody tr th:only-of-type {\n",
       "        vertical-align: middle;\n",
       "    }\n",
       "\n",
       "    .dataframe tbody tr th {\n",
       "        vertical-align: top;\n",
       "    }\n",
       "\n",
       "    .dataframe thead th {\n",
       "        text-align: right;\n",
       "    }\n",
       "</style>\n",
       "<table border=\"1\" class=\"dataframe\">\n",
       "  <thead>\n",
       "    <tr style=\"text-align: right;\">\n",
       "      <th></th>\n",
       "      <th>6945</th>\n",
       "      <th>2189</th>\n",
       "      <th>3722</th>\n",
       "      <th>9905</th>\n",
       "      <th>1640</th>\n",
       "      <th>3269</th>\n",
       "      <th>8948</th>\n",
       "      <th>2900</th>\n",
       "      <th>6264</th>\n",
       "      <th>1007</th>\n",
       "    </tr>\n",
       "  </thead>\n",
       "  <tbody>\n",
       "    <tr>\n",
       "      <th>BALANCE</th>\n",
       "      <td>371.29</td>\n",
       "      <td>281.54</td>\n",
       "      <td>131.21</td>\n",
       "      <td>341.57</td>\n",
       "      <td>270.67</td>\n",
       "      <td>329.22</td>\n",
       "      <td>258.23</td>\n",
       "      <td>239.85</td>\n",
       "      <td>409.85</td>\n",
       "      <td>155.99</td>\n",
       "    </tr>\n",
       "    <tr>\n",
       "      <th>COUNTRY</th>\n",
       "      <td>0.00</td>\n",
       "      <td>0.00</td>\n",
       "      <td>0.00</td>\n",
       "      <td>0.00</td>\n",
       "      <td>0.00</td>\n",
       "      <td>0.00</td>\n",
       "      <td>0.00</td>\n",
       "      <td>0.00</td>\n",
       "      <td>0.00</td>\n",
       "      <td>0.00</td>\n",
       "    </tr>\n",
       "    <tr>\n",
       "      <th>ACCOUNT_TYPE</th>\n",
       "      <td>0.00</td>\n",
       "      <td>0.00</td>\n",
       "      <td>0.00</td>\n",
       "      <td>0.00</td>\n",
       "      <td>0.00</td>\n",
       "      <td>0.00</td>\n",
       "      <td>0.00</td>\n",
       "      <td>0.00</td>\n",
       "      <td>0.00</td>\n",
       "      <td>0.00</td>\n",
       "    </tr>\n",
       "  </tbody>\n",
       "</table>\n",
       "</div>"
      ],
      "text/plain": [
       "                6945    2189    3722    9905    1640    3269    8948    2900  \\\n",
       "BALANCE       371.29  281.54  131.21  341.57  270.67  329.22  258.23  239.85   \n",
       "COUNTRY         0.00    0.00    0.00    0.00    0.00    0.00    0.00    0.00   \n",
       "ACCOUNT_TYPE    0.00    0.00    0.00    0.00    0.00    0.00    0.00    0.00   \n",
       "\n",
       "                6264    1007  \n",
       "BALANCE       409.85  155.99  \n",
       "COUNTRY         0.00    0.00  \n",
       "ACCOUNT_TYPE    0.00    0.00  "
      ]
     },
     "execution_count": 10,
     "metadata": {},
     "output_type": "execute_result"
    }
   ],
   "source": [
    "# We look at the data for the same accounts after the step.\n",
    "# If no account balances changed, it means none of the \n",
    "# 10 accounts were invloved in a transaction at this time\n",
    "pd.DataFrame().from_dict({k: v.numpy() for k, v in env.transaction_graph.nodes[ACCOUNTS].data.items()}, orient='index', columns=ACCOUNTS)"
   ]
  },
  {
   "cell_type": "code",
   "execution_count": 11,
   "id": "142cca2f",
   "metadata": {},
   "outputs": [
    {
     "data": {
      "text/plain": [
       "{'TX_ID': tensor([   1,    2,    3,  ..., 4918, 4919, 4920]), 'TIMESTAMP': tensor([0, 0, 0,  ..., 0, 0, 0]), 'TX_AMOUNT': tensor([465.0500, 564.6400, 598.9400,  ..., 496.8600, 561.1000, 522.2800],\n",
       "       dtype=torch.float64), 'TX_TYPE': tensor([0, 0, 0,  ..., 0, 0, 0])}"
      ]
     },
     "execution_count": 11,
     "metadata": {},
     "output_type": "execute_result"
    }
   ],
   "source": [
    "# We check the edges now\n",
    "env.transaction_graph.edata"
   ]
  },
  {
   "cell_type": "code",
   "execution_count": 12,
   "id": "c5346f63",
   "metadata": {},
   "outputs": [
    {
     "name": "stdout",
     "output_type": "stream",
     "text": [
      "Graph reset!\n"
     ]
    }
   ],
   "source": [
    "# Now we see that it works, let's reset the graph, check the reset, and check how\n",
    "# long it takes to run all 200 time steps\n",
    "env.reset()\n",
    "assert env.t == 0\n",
    "assert env.transaction_graph.edata == {}\n",
    "print(\"Graph reset!\")"
   ]
  },
  {
   "cell_type": "code",
   "execution_count": 13,
   "id": "da628627",
   "metadata": {},
   "outputs": [
    {
     "name": "stdout",
     "output_type": "stream",
     "text": [
      "0.753s for 1323234 transactions\n"
     ]
    }
   ],
   "source": [
    "start = time()\n",
    "for i in env.transaction_ledger.keys():\n",
    "    env.step()\n",
    "end = time()-start\n",
    "print(f\"{round(end,4)}s for {env.transaction_graph.num_edges()} transactions\")"
   ]
  },
  {
   "cell_type": "code",
   "execution_count": 14,
   "id": "b222ba52",
   "metadata": {},
   "outputs": [
    {
     "name": "stdout",
     "output_type": "stream",
     "text": [
      "Graph reset!\n"
     ]
    }
   ],
   "source": [
    "# Let's reset the graph, check the reset, and move on\n",
    "env.reset()\n",
    "assert env.t == 0\n",
    "assert env.transaction_graph.edata == {}\n",
    "print(\"Graph reset!\")"
   ]
  },
  {
   "cell_type": "markdown",
   "id": "46a81744",
   "metadata": {},
   "source": [
    "# Some simple subgraph techniques"
   ]
  },
  {
   "cell_type": "code",
   "execution_count": null,
   "id": "2cb010aa",
   "metadata": {},
   "outputs": [],
   "source": [
    "# We will grab an account (258) that is associated with an alert\n",
    "# An alert is raised for this at timestep 42 so we need to increment\n",
    "# the environment to at least t=42\n",
    "account_of_interest = 258\n",
    "\n",
    "for _ in range(42):\n",
    "    env.step()\n",
    "\n",
    "print(env.t)"
   ]
  },
  {
   "cell_type": "code",
   "execution_count": null,
   "id": "55468483",
   "metadata": {},
   "outputs": [],
   "source": [
    "# We collect the n-community (subgraph with nodes separated by at most n edges)\n",
    "# centered around the account we are investigating\n",
    "account_node = torch.tensor([account_of_interest], dtype=torch.int64)\n",
    "communities = {0: {'nodes': account_node,\n",
    "                   'subgraph': env.transaction_graph.subgraph(account_node)\n",
    "                  }}\n",
    "separation = 2\n",
    "\n",
    "for sep in range(1,separation+1):\n",
    "    _ , successors = env.transaction_graph.out_edges(communities[sep-1]['nodes'])\n",
    "    new_sources = torch.unique(successors)\n",
    "    communities.update({sep: {'nodes': torch.cat([communities[sep-1]['nodes'], new_sources]),\n",
    "                              'subgraph': env.transaction_graph.subgraph(new_sources)\n",
    "                             }\n",
    "                       }\n",
    "                      )"
   ]
  },
  {
   "cell_type": "code",
   "execution_count": null,
   "id": "4b487505",
   "metadata": {},
   "outputs": [],
   "source": []
  },
  {
   "cell_type": "code",
   "execution_count": null,
   "id": "6a650e33",
   "metadata": {},
   "outputs": [],
   "source": []
  },
  {
   "cell_type": "code",
   "execution_count": null,
   "id": "d342cd0f",
   "metadata": {},
   "outputs": [],
   "source": []
  },
  {
   "cell_type": "code",
   "execution_count": null,
   "id": "1948485c",
   "metadata": {},
   "outputs": [],
   "source": []
  },
  {
   "cell_type": "code",
   "execution_count": null,
   "id": "9b4f1361",
   "metadata": {},
   "outputs": [],
   "source": []
  },
  {
   "cell_type": "code",
   "execution_count": null,
   "id": "793447fc",
   "metadata": {},
   "outputs": [],
   "source": []
  },
  {
   "cell_type": "code",
   "execution_count": null,
   "id": "379ecd37",
   "metadata": {},
   "outputs": [],
   "source": []
  },
  {
   "cell_type": "code",
   "execution_count": null,
   "id": "54d43ba6",
   "metadata": {},
   "outputs": [],
   "source": []
  },
  {
   "cell_type": "code",
   "execution_count": null,
   "id": "70a6dfd3",
   "metadata": {},
   "outputs": [],
   "source": []
  },
  {
   "cell_type": "code",
   "execution_count": null,
   "id": "8e362e7b",
   "metadata": {},
   "outputs": [],
   "source": []
  },
  {
   "cell_type": "code",
   "execution_count": null,
   "id": "83af6e8c",
   "metadata": {},
   "outputs": [],
   "source": []
  }
 ],
 "metadata": {
  "kernelspec": {
   "display_name": "Python 3 (ipykernel)",
   "language": "python",
   "name": "python3"
  },
  "language_info": {
   "codemirror_mode": {
    "name": "ipython",
    "version": 3
   },
   "file_extension": ".py",
   "mimetype": "text/x-python",
   "name": "python",
   "nbconvert_exporter": "python",
   "pygments_lexer": "ipython3",
   "version": "3.8.10"
  }
 },
 "nbformat": 4,
 "nbformat_minor": 5
}
