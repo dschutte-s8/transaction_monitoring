{
 "cells": [
  {
   "cell_type": "markdown",
   "id": "26a94955",
   "metadata": {},
   "source": [
    "# AMLSim\n",
    "\n",
    "## Contents\n",
    "\n",
    "[Introduction](#intro)<br>\n",
    "[Data Structure](#data-structure)<br>\n",
    "[Loading Data](#loading-data)<br>"
   ]
  },
  {
   "cell_type": "markdown",
   "id": "ff00196e",
   "metadata": {},
   "source": [
    "## Introduction <a name=\"intro\"></a>\n",
    "\n",
    "AMLSim is a project from a group of IBM researchers that builds a multi-agent AML simulation containing synthetic data for accounts, transactions, and alerts. The package can be used to generate customized transaction graphs but they also provide a collection of databases (which we will leverage initially for development and testing). See the following [GitHub repo](https://github.com/IBM/AMLSim) for additional information.\n",
    "\n",
    "Presently, all of the available datasets they have generated are loaded into a S3 bucket (if you are in our AWS environment). The ```get_data.sh``` in the ```setup``` directory **(please only run this script on your local machine!!)** will download the ```10Kvertices-1Medges``` graph, containing 10k accounts and over 1M transactions. The dataset also includes over 1700 alerts.\n",
    "\n",
    "The short of how AMLSim generates the data is that two components are used, one to generate the transaction graph and the second to simulate transactions, the Transaction Graph Generator and Transaction Simulator, respectively.\n",
    "<ol>\n",
    "    <li> Generate Transaction Graph\n",
    "        <ol>\n",
    "            <li>Generates accounts with designated attributes (account type, country, etc.)</li>\n",
    "            <li>Generates base transaction graph based on the degree distribution parameters</li>\n",
    "            <li>Generates whole transaction graph based on the properties in the alert parameters</li>\n",
    "        </ol>\n",
    "    </li>\n",
    "    <li> Simulate Transactions\n",
    "        <ol>\n",
    "            <li>Constructs account and alert group objects from the transaction graph using the alert patterns</li>\n",
    "            <li>Iterates simulation step where accounts execute transactions with neighbor accounts for t timesteps</li>\n",
    "        </ol>\n",
    "    </li>\n",
    "</ol>\n",
    "\n",
    "![](https://github.com/IBM/AMLSim/wiki/images/overview/workflow.png)\n",
    "\n",
    "Image taken from AMLSim repo."
   ]
  },
  {
   "cell_type": "markdown",
   "id": "27b281e5",
   "metadata": {},
   "source": [
    "## Data Structure <a name=\"data-structure\"></a>"
   ]
  },
  {
   "cell_type": "code",
   "execution_count": null,
   "id": "231d1df2",
   "metadata": {},
   "outputs": [],
   "source": []
  },
  {
   "cell_type": "code",
   "execution_count": null,
   "id": "af7a3b8f",
   "metadata": {},
   "outputs": [],
   "source": []
  },
  {
   "cell_type": "markdown",
   "id": "695458af",
   "metadata": {},
   "source": [
    "## Loading Data <a name=\"loading-data\"></a>\n"
   ]
  },
  {
   "cell_type": "code",
   "execution_count": null,
   "id": "660ebc74",
   "metadata": {},
   "outputs": [],
   "source": []
  },
  {
   "cell_type": "code",
   "execution_count": null,
   "id": "dce2a819",
   "metadata": {},
   "outputs": [],
   "source": []
  }
 ],
 "metadata": {
  "kernelspec": {
   "display_name": "Python 3 (ipykernel)",
   "language": "python",
   "name": "python3"
  },
  "language_info": {
   "codemirror_mode": {
    "name": "ipython",
    "version": 3
   },
   "file_extension": ".py",
   "mimetype": "text/x-python",
   "name": "python",
   "nbconvert_exporter": "python",
   "pygments_lexer": "ipython3",
   "version": "3.8.10"
  }
 },
 "nbformat": 4,
 "nbformat_minor": 5
}
